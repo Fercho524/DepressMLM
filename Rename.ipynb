{
 "cells": [
  {
   "cell_type": "code",
   "execution_count": 1,
   "metadata": {},
   "outputs": [],
   "source": [
    "import os\n",
    "import json"
   ]
  },
  {
   "cell_type": "code",
   "execution_count": 6,
   "metadata": {},
   "outputs": [],
   "source": [
    "root_dir = \"Users\"\n",
    "DestDir = \"Datos\"\n",
    "files = [os.path.join(root_dir,file) for file in os.listdir(\"Users\")]\n",
    "\n",
    "\n",
    "for file in files:\n",
    "    with open(file,\"r\") as user_file:\n",
    "        content = user_file.read()\n",
    "        user = json.loads(content)\n",
    "        username = user[\"username\"]\n",
    "        \n",
    "        with open(os.path.join(DestDir,f\"{username}.json\"),\"w\") as fileout:\n",
    "            fileout.write(json.dumps(user,ensure_ascii=False))"
   ]
  }
 ],
 "metadata": {
  "kernelspec": {
   "display_name": "venv",
   "language": "python",
   "name": "python3"
  },
  "language_info": {
   "codemirror_mode": {
    "name": "ipython",
    "version": 3
   },
   "file_extension": ".py",
   "mimetype": "text/x-python",
   "name": "python",
   "nbconvert_exporter": "python",
   "pygments_lexer": "ipython3",
   "version": "3.11.9"
  }
 },
 "nbformat": 4,
 "nbformat_minor": 2
}
